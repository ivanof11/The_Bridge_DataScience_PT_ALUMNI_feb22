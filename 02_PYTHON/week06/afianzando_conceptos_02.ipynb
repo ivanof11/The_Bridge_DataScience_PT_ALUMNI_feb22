{
 "cells": [
  {
   "cell_type": "markdown",
   "metadata": {},
   "source": [
    "##  Tuplas\n",
    "Las tuplas en Python son colecciones también ordenadas de elementos, posiblemente heterogéneos y con valores duplicados. Ahora bien, a diferencia de las listas, las tuplas son inmutables. Esto implica que, una vez definidas, no podremos añadir ni eliminar elementos de una tupla, ni tampoco modificarlos:"
   ]
  },
  {
   "cell_type": "code",
   "execution_count": null,
   "metadata": {},
   "outputs": [],
   "source": [
    "# Las tuplas pueden ser heterogéneas y tener duplicados\n",
    "a_tuple = (1, 1, 3.5, \"strings also\", [None, 4])\n",
    "print(\"The tuple is:\\n\\t{}\".format(a_tuple))"
   ]
  },
  {
   "cell_type": "code",
   "execution_count": null,
   "metadata": {},
   "outputs": [],
   "source": [
    "type(a_tuple)"
   ]
  },
  {
   "cell_type": "code",
   "execution_count": null,
   "metadata": {},
   "outputs": [],
   "source": [
    "# También podemos omitir los paréntesis en la definición de una tupla\n",
    "the_same_tuple = 1, 1, 3.5, \"strings also\", [None, 4]\n",
    "print(\"The tuple is:\\n\\t{}\".format(the_same_tuple))"
   ]
  },
  {
   "cell_type": "code",
   "execution_count": null,
   "metadata": {},
   "outputs": [],
   "source": [
    "type(the_same_tuple)"
   ]
  },
  {
   "cell_type": "code",
   "execution_count": null,
   "metadata": {},
   "outputs": [],
   "source": [
    "print(\"Are they equal:\\n\\t{}\".format(a_tuple == the_same_tuple))"
   ]
  },
  {
   "cell_type": "code",
   "execution_count": null,
   "metadata": {},
   "outputs": [],
   "source": [
    "# Las tuplas son colecciones ordenadas:\n",
    "print(\"First element is:\\n\\t{}\".format(a_tuple[0]))\n",
    "print(\"Second element is:\\n\\t{}\".format(a_tuple[1]))\n",
    "print(\"Third element is:\\n\\t{}\".format(a_tuple[2]))"
   ]
  },
  {
   "cell_type": "code",
   "execution_count": null,
   "metadata": {},
   "outputs": [],
   "source": [
    "# Las tuplas son inmutables\n",
    "try:\n",
    "    del a_tuple[0]\n",
    "except TypeError as e:\n",
    "    print(e)"
   ]
  },
  {
   "cell_type": "code",
   "execution_count": null,
   "metadata": {},
   "outputs": [],
   "source": [
    "# Las tuplas son inmutables\n",
    "try:\n",
    "    del a_tuple[0]\n",
    "except Exception as e:\n",
    "    print(e)\n",
    "finally:\n",
    "    pass"
   ]
  },
  {
   "cell_type": "markdown",
   "metadata": {},
   "source": [
    "```\n",
    "# definición de una función con try...except y finally con pass\n",
    "def nombre_function(arg1, arg2=None):\n",
    "    try:\n",
    "        EXECUTE CODE arg1\n",
    "        VALUE = arg1 + arg2\n",
    "        return VALUE\n",
    "    except Exception as e:\n",
    "        print(e)\n",
    "    finally:\n",
    "        continue / pass\n",
    "```\n",
    "\n",
    "* * *"
   ]
  },
  {
   "cell_type": "markdown",
   "metadata": {},
   "source": [
    "```\n",
    "def nombre_function(arg1, arg2=None):\n",
    "    try:\n",
    "        EXECUTE CODE arg1\n",
    "        VALUE = arg1 + arg2\n",
    "    except Exception as e:\n",
    "        print(e)\n",
    "    finally:\n",
    "        return VALUE\n",
    "```\n",
    "\n",
    "***"
   ]
  },
  {
   "cell_type": "markdown",
   "metadata": {},
   "source": [
    "```\n",
    "def nombre_function_1():\n",
    "    print(\"Hello\")\n",
    "\n",
    "\n",
    "def nombre_function(arg1, arg2=None):\n",
    "    try:\n",
    "        EXECUTE CODE arg1\n",
    "        VALUE = arg1 + arg2\n",
    "        return VALUE\n",
    "    except Exception as e:\n",
    "        print(e)\n",
    "    finally:\n",
    "        nombre_function_1()\n",
    "\n",
    "# Ejecuta la función principal y finaliza con otra función de print(\"Hello\")\n",
    "nombre_function(arg1)\n",
    "```"
   ]
  },
  {
   "cell_type": "markdown",
   "metadata": {},
   "source": [
    "***"
   ]
  },
  {
   "cell_type": "markdown",
   "metadata": {},
   "source": [
    "## Diccionarios\n",
    "Los diccionarios en Python son **colecciones sin orden** de elementos, posiblemente *heterogéneos* y **sin duplicados**.\n",
    "\n",
    "```\n",
    "diccionario_1 = {\n",
    "    \"key_3\" : \"valor_0\",\n",
    "    \"key_1\" : \"valor_1\",\n",
    "    \"key_2\" : \"valor_2\",\n",
    "    \"key_n\" : \"valor_2\",\n",
    "    \"key_int\" : 56,\n",
    "    \"key_float\": 78.9,\n",
    "    \"key_bool\": True,\n",
    "    \"key_object\": [1, 2, 3],\n",
    "    \"Key\" : \"valor\",\n",
    "    \"keyKey\": \"valor...\",\n",
    "    \"HOLA\" : \"valor_5\",\n",
    "    _id: 5677876989789\n",
    "\n",
    "}"
   ]
  },
  {
   "cell_type": "markdown",
   "metadata": {},
   "source": [
    "Los diccionarios son la implementación, en Python, de la estructura de datos \n",
    "que conocemos con el nombre de **array asociativo** o **map**.  Los diccionarios son colecciones de pares clave-valor, que además de las operaciones básicas de *inserción*, *modificación* y *eliminación*, también permiten *recuperar* los datos almacenados a través de la clave. La característica principal de esta estructura de datos es que no puede haber claves repetidas (cada clave aparece, como mucho, una única vez, y tiene por tanto un único valor asociado)."
   ]
  },
  {
   "cell_type": "code",
   "execution_count": null,
   "metadata": {},
   "outputs": [],
   "source": [
    "# Intentamos crear un diccionario con una clave repetida (a)\n",
    "dict_0 = {\"a\": 0, \"b\": 1, \"a\": 1, \"a\" : 5}\n",
    "# Comprobamos como el diccionario tiene una única clave a:\n",
    "dict_0"
   ]
  },
  {
   "cell_type": "markdown",
   "metadata": {},
   "source": [
    "Ahora bien, un diccionario sí puede tener valores repetidos:"
   ]
  },
  {
   "cell_type": "code",
   "execution_count": null,
   "metadata": {},
   "outputs": [],
   "source": [
    "dict_0 = {\"a\": 0, \"b\": 0, \"c\": 0}\n",
    "dict_0"
   ]
  },
  {
   "cell_type": "code",
   "execution_count": null,
   "metadata": {},
   "outputs": [],
   "source": [
    "# Añadimos un elemento a dict_0\n",
    "print(\"dict_0 is:\\n\\t{}\".format(dict_0))"
   ]
  },
  {
   "cell_type": "code",
   "execution_count": null,
   "metadata": {},
   "outputs": [],
   "source": [
    "# Creamos un nuevo valor a un key existente a través de asignación\n",
    "dict_0[\"a\"] = 5\n",
    "dict_0"
   ]
  },
  {
   "cell_type": "code",
   "execution_count": null,
   "metadata": {},
   "outputs": [],
   "source": [
    "# Actualizamos un elemento de dict_0\n",
    "dict_0['a'] = -5\n",
    "print(\"After updating a, dict_0 is:\\n\\t{}\".format(dict_0))"
   ]
  },
  {
   "cell_type": "code",
   "execution_count": null,
   "metadata": {},
   "outputs": [],
   "source": [
    "# Eliminamos un elemento de dict_0\n",
    "del dict_0['b']\n",
    "print(\"After deleting b, dict_0 is:\\n\\t{}\".format(dict_0))"
   ]
  },
  {
   "cell_type": "code",
   "execution_count": null,
   "metadata": {},
   "outputs": [],
   "source": [
    "# Creamos un nuevo par (\"key\" d y \"valor\" 6)\n",
    "dict_0['d'] = 6 \n",
    "dict_0"
   ]
  },
  {
   "cell_type": "code",
   "execution_count": null,
   "metadata": {},
   "outputs": [],
   "source": [
    "dict_0['e'] = None\n",
    "dict_0"
   ]
  },
  {
   "cell_type": "code",
   "execution_count": null,
   "metadata": {},
   "outputs": [],
   "source": [
    "dict_0['e']"
   ]
  },
  {
   "cell_type": "markdown",
   "metadata": {},
   "source": [
    "odemos recuperar todas las claves de un diccionario con el método **keys**, todos los valores con **values**, y ambos conjuntos de valores con **items**:"
   ]
  },
  {
   "cell_type": "code",
   "execution_count": null,
   "metadata": {},
   "outputs": [],
   "source": [
    "dict_0.keys()"
   ]
  },
  {
   "cell_type": "code",
   "execution_count": null,
   "metadata": {},
   "outputs": [],
   "source": [
    "dict_0.values()"
   ]
  },
  {
   "cell_type": "code",
   "execution_count": null,
   "metadata": {},
   "outputs": [],
   "source": [
    "dict_0.items()"
   ]
  },
  {
   "cell_type": "markdown",
   "metadata": {},
   "source": [
    "Podemos **iterar** sobre los elementos de un diccionario utilizando keys,values o items, o bien iterando directamente sobre el diccionario (que es equivalente a iterar sobre sus claves):"
   ]
  },
  {
   "cell_type": "code",
   "execution_count": null,
   "metadata": {},
   "outputs": [],
   "source": [
    "# Opción 1: iteramos sobre el diccionario directamente\n",
    "for n in dict_0:\n",
    "    print(n)"
   ]
  },
  {
   "cell_type": "code",
   "execution_count": null,
   "metadata": {},
   "outputs": [],
   "source": [
    "for n in dict_0:\n",
    "    print(dict_0[n])"
   ]
  },
  {
   "cell_type": "code",
   "execution_count": null,
   "metadata": {},
   "outputs": [],
   "source": [
    "for n in dict_0:\n",
    "    print(n, dict_0[n])"
   ]
  },
  {
   "cell_type": "code",
   "execution_count": null,
   "metadata": {},
   "outputs": [],
   "source": [
    "# opción 2: iteramos sobre las claves directamente\n",
    "for k in dict_0.keys():\n",
    "    print(k)"
   ]
  },
  {
   "cell_type": "code",
   "execution_count": null,
   "metadata": {},
   "outputs": [],
   "source": [
    "# Iteramos sobre los valores directamente\n",
    "for v in dict_0.values():\n",
    "    print(v)"
   ]
  },
  {
   "cell_type": "code",
   "execution_count": null,
   "metadata": {},
   "outputs": [],
   "source": [
    "# iteramos sobre las tuplas o items\n",
    "for k,v in dict_0.items():\n",
    "    print(k,v)"
   ]
  },
  {
   "cell_type": "code",
   "execution_count": null,
   "metadata": {},
   "outputs": [],
   "source": [
    "-5 in dict_0.values()"
   ]
  },
  {
   "cell_type": "code",
   "execution_count": null,
   "metadata": {},
   "outputs": [],
   "source": [
    "type(dict_0.values())"
   ]
  },
  {
   "cell_type": "markdown",
   "metadata": {},
   "source": [
    "Los diccionarios pueden contener otros diccionarios. Esto permite tener variables con estructuras complejas."
   ]
  },
  {
   "cell_type": "code",
   "execution_count": null,
   "metadata": {},
   "outputs": [],
   "source": [
    "speeds = {\n",
    "    \"Spain\": {\"motorway\": 120, \"road\": 90, \"city\": 50},\n",
    "    \"France\": {\"motorway\": 130, \"road\": 80, \"city\": 50},\n",
    "    2 : {\"motorway\": 130, \"road\": 80, \"city\": 50}\n",
    "}"
   ]
  },
  {
   "cell_type": "code",
   "execution_count": null,
   "metadata": {},
   "outputs": [],
   "source": [
    "# Recuperamos el diccionario de las velocidades de España\n",
    "print(speeds['Spain'])"
   ]
  },
  {
   "cell_type": "code",
   "execution_count": null,
   "metadata": {},
   "outputs": [],
   "source": [
    "# Consultamos la velocidad máxima en carretera en Francia\n",
    "speeds['France']['road']"
   ]
  },
  {
   "cell_type": "code",
   "execution_count": null,
   "metadata": {},
   "outputs": [],
   "source": [
    "type(speeds['France']['road'])"
   ]
  },
  {
   "cell_type": "code",
   "execution_count": null,
   "metadata": {},
   "outputs": [],
   "source": [
    "# No es posible \n",
    "speeds[2]"
   ]
  },
  {
   "cell_type": "code",
   "execution_count": null,
   "metadata": {},
   "outputs": [],
   "source": [
    "speeds.keys()"
   ]
  },
  {
   "cell_type": "code",
   "execution_count": null,
   "metadata": {},
   "outputs": [],
   "source": [
    "speeds[2]"
   ]
  },
  {
   "cell_type": "code",
   "execution_count": null,
   "metadata": {},
   "outputs": [],
   "source": [
    "# Creamos dos diccionarios con el mismo contenido, pero\n",
    "# en orden diferente\n",
    "dict_1 = {\"a\": 0, \"b\": 1, \"c\": 2}\n",
    "dict_2 = {\"b\": 1, \"a\": 0, \"c\": 2}"
   ]
  },
  {
   "cell_type": "code",
   "execution_count": null,
   "metadata": {},
   "outputs": [],
   "source": [
    "dict_1 == dict_2"
   ]
  },
  {
   "cell_type": "markdown",
   "metadata": {},
   "source": [
    " Ahora bien, a partir de la **versión 3.6 de Python**, la implementación de los diccionarios preserva el orden de inserción de los elementos. Es decir, cuando recorremos el diccionario, la implementación nos devuelve los elementos en el orden que fueron insertados. \n",
    " \n",
    " A partir de la **versión 3.7 y posteriores**, este comportamiento se ha declarado como oficial y, por lo tanto, podemos crear código que asuma que los diccionarios mantienen el orden de inserción de sus elementos:"
   ]
  },
  {
   "cell_type": "code",
   "execution_count": null,
   "metadata": {},
   "outputs": [],
   "source": [
    "# Creamos un diccionario\n",
    "dict_3 = {f\"Key_{num}\": f\"Value_{num+1}\" for num in range(10)}\n",
    "dict_3"
   ]
  },
  {
   "cell_type": "code",
   "execution_count": null,
   "metadata": {},
   "outputs": [],
   "source": [
    "type(dict_3)"
   ]
  },
  {
   "cell_type": "code",
   "execution_count": null,
   "metadata": {},
   "outputs": [],
   "source": [
    "import json\n",
    "import requests\n",
    "url=\"https://raw.githubusercontent.com/reliefweb/crisis-app-data/v1/edition/world/main.json\"\n",
    "response = requests.get(url)\n",
    "todos = json.loads(response.text)"
   ]
  },
  {
   "cell_type": "code",
   "execution_count": null,
   "metadata": {},
   "outputs": [],
   "source": [
    "response.text[:100]"
   ]
  },
  {
   "cell_type": "code",
   "execution_count": null,
   "metadata": {},
   "outputs": [],
   "source": [
    "type(response.text)"
   ]
  },
  {
   "cell_type": "code",
   "execution_count": null,
   "metadata": {},
   "outputs": [],
   "source": [
    "type(todos[0])"
   ]
  },
  {
   "cell_type": "code",
   "execution_count": null,
   "metadata": {},
   "outputs": [],
   "source": [
    "len(todos)"
   ]
  },
  {
   "cell_type": "code",
   "execution_count": null,
   "metadata": {},
   "outputs": [],
   "source": [
    "todos[0].keys()"
   ]
  },
  {
   "cell_type": "code",
   "execution_count": null,
   "metadata": {},
   "outputs": [],
   "source": [
    "todos[0]['overview']"
   ]
  },
  {
   "cell_type": "code",
   "execution_count": null,
   "metadata": {},
   "outputs": [],
   "source": [
    "type(todos[0]['overview'])"
   ]
  },
  {
   "cell_type": "code",
   "execution_count": null,
   "metadata": {},
   "outputs": [],
   "source": [
    "# Iteramos con cada uno de los índices de nuestra lista\n",
    "for i in todos:\n",
    "    print(i)"
   ]
  },
  {
   "cell_type": "markdown",
   "metadata": {},
   "source": [
    "## Dict comprehensions\n",
    "\n",
    "De una manera similar a las list comprehensions podemos utilizar dict comprehensions para crear nuevos diccionarios con una sintaxis compacta. \n",
    "\n",
    "La sintaxis de una dict comprehension consta de **unas claves** (que definen el diccionario), que contienen al menos **una cláusula for** y que pueden tener también **cláusulas if**. \n",
    "\n",
    "Se deberá **especificar cuál es la clave** y cuál es el valor para cada entrada del diccionario (a diferencia de las listas, donde solo había que especificar el valor de cada elemento). Veámoslo con algunos ejemplos:"
   ]
  },
  {
   "cell_type": "code",
   "execution_count": null,
   "metadata": {},
   "outputs": [],
   "source": [
    "# Definimos un diccionario sobre el que iterar\n",
    "dict_4 = {1.0: \"one\", 2.0: \"two\", 3.0: \"three\", 4.0: \"four\", 5.0: \"five\"}\n",
    "print(\"Original dict:\\n\\t{}\".format(dict_4))"
   ]
  },
  {
   "cell_type": "code",
   "execution_count": null,
   "metadata": {},
   "outputs": [],
   "source": [
    "# Iteramos sobre las claves y creamos un nuevo diccionario con las mismas\n",
    "# claves y \"number\" como valor (para todos los elementos)\n",
    "dict_5 = {k: \"number\" for k in dict_4.keys()}\n",
    "dict_5"
   ]
  },
  {
   "cell_type": "code",
   "execution_count": null,
   "metadata": {},
   "outputs": [],
   "source": [
    "# Iteramos sobre los valores y creamos un nuevo diccionario utilizando\n",
    "# los valores como clave y \"new\" como valor (para todos los elementos)\n",
    "\n",
    "dict_6 = {v: \"new\" for v in dict_4.values()}\n",
    "dict_6"
   ]
  },
  {
   "cell_type": "code",
   "execution_count": null,
   "metadata": {},
   "outputs": [],
   "source": [
    "# Iteramos sobre los ítems y creamos un nuevo diccionario con las claves\n",
    "# convertidas a entero y los valores con un ! final\n",
    "dict_7 = {int(k):v + \"!\" for (k,v) in dict_4.items()}\n",
    "dict_7"
   ]
  },
  {
   "cell_type": "code",
   "execution_count": null,
   "metadata": {},
   "outputs": [],
   "source": [
    "dict_4"
   ]
  },
  {
   "cell_type": "code",
   "execution_count": null,
   "metadata": {},
   "outputs": [],
   "source": [
    "# Creamos un diccionario con las mismas claves que el diccionario original\n",
    "# pero pasadas a entero, y como valor guardamos la longitud del valor\n",
    "# original (es decir, el número de letras de la palabra)\n",
    "dict_8 = {int(k): len(v) for (k,v) in dict_4.items()}\n",
    "dict_8"
   ]
  },
  {
   "cell_type": "code",
   "execution_count": null,
   "metadata": {},
   "outputs": [],
   "source": [
    "# Creamos un diccionario con las mismas claves que el diccionario original\n",
    "# pero pasadas a entero, y como valor guardamos el número de veces que\n",
    "# aparece la letra e en el valor\n",
    "dict_9 = {int(k): v.count(\"e\") for (k,v) in dict_4.items()}\n",
    "dict_9"
   ]
  },
  {
   "cell_type": "code",
   "execution_count": null,
   "metadata": {},
   "outputs": [],
   "source": [
    "# Creamos un diccionario con los valores del diccionario original en mayúsculas\n",
    "# como clave, y como valor guardamos la longitud del valor original (es\n",
    "# decir, el número de letras de la palabra)\n",
    "dict_10 = {v.upper(): len(v) for (k,v) in dict_4.items()}\n",
    "dict_10"
   ]
  },
  {
   "cell_type": "code",
   "execution_count": null,
   "metadata": {},
   "outputs": [],
   "source": [
    "# Creamos un diccionario con las mismas claves que el diccionario original\n",
    "# pero pasadas a entero, y los mismos valores, incluyendo solo los elementos\n",
    "# que tienen alguna e en el valor\n",
    "dict_11 = {int(k): v for (k,v) in dict_4.items() if v.count(\"e\")}\n",
    "dict_11"
   ]
  },
  {
   "cell_type": "code",
   "execution_count": null,
   "metadata": {},
   "outputs": [],
   "source": [
    "# Creamos un diccionario que tiene como clave las claves originales pasadas a\n",
    "# entero y sumando 10, y como valor el mismo valor concatenado con \" + ten\",\n",
    "# incluyendo solo las claves impares\n",
    "dict_12 = {int(k) + 10: v + \" + ten\"\n",
    "            for (k,v) in dict_4.items() if int(k) % 2}\n",
    "dict_12"
   ]
  },
  {
   "cell_type": "markdown",
   "metadata": {},
   "source": [
    "Por último, las dict comprehensions también pueden contener más de una cláusula for, lo que permite combinar los contenidos de varios diccionarios en la construcción del nuevo diccionario. Veamos un ejemplo de una baraja de cartas:"
   ]
  },
  {
   "cell_type": "code",
   "execution_count": null,
   "metadata": {},
   "outputs": [],
   "source": [
    "# Definimos los 4 palos y el símbolo que los representa\n",
    "suits = {\"hearts\": \"\\u2665\", \"tiles\": \"\\u2666\",\n",
    "         \"clovers\": \"\\u2663\", \"pikes\": \"\\u2660\"}\n",
    "# Definimos los posibles valores de las cartas\n",
    "ranks = {\"2\": 2, \"3\": 3, \"4\": 4, \"5\": 5, \"6\": 6, \"7\": 7,\n",
    "         \"8\": 8, \"9\": 9, \"10\": 10, \"J\": 11, \"Q\": 12, \"K\": 13, \"A\": 14}\n",
    "# Definimos una posible asignación de valores a los palos\n",
    "suit_cod = {\"hearts\": 1, \"tiles\": 2, \"clovers\": 3, \"pikes\": 4}"
   ]
  },
  {
   "cell_type": "code",
   "execution_count": null,
   "metadata": {},
   "outputs": [],
   "source": [
    "new_list = []\n",
    "for s_v in suits.values():\n",
    "    for (r_k, r_v) in ranks.items():\n",
    "        new_list.append((r_k + s_v, r_v))\n",
    "print(new_list)\n",
    "print(\"*-\"*10)\n",
    "print(dict(new_list))"
   ]
  },
  {
   "cell_type": "code",
   "execution_count": null,
   "metadata": {},
   "outputs": [],
   "source": [
    "new_dict = {}\n",
    "new_dict[r_k + s_v] = r_v"
   ]
  },
  {
   "cell_type": "code",
   "execution_count": null,
   "metadata": {},
   "outputs": [],
   "source": [
    "# list of tuples\n",
    "list_of_tuples = [('a', 'A'), ('b', 'B'), ('c', 'C')]\n",
    "print(type(list_of_tuples[0]))\n",
    "# converting to dictionary\n",
    "list_of_tuples_dict = dict(list_of_tuples)\n",
    "type(list_of_tuples_dict)"
   ]
  },
  {
   "cell_type": "code",
   "execution_count": null,
   "metadata": {},
   "outputs": [],
   "source": [
    "list_of_tuples_dict"
   ]
  },
  {
   "cell_type": "code",
   "execution_count": null,
   "metadata": {},
   "outputs": [],
   "source": [
    "# Creamos un diccionario que contendrá todas las cartas de la baraja, con\n",
    "# el símbolo del palo y el número de carta como clave, y el número de carta\n",
    "# como valor\n",
    "card_deck = { r_k + s_v : r_v for (s_k, s_v) in suits.items()\n",
    "        for (r_k, r_v) in ranks.items()\n",
    "        }\n",
    "print(card_deck)"
   ]
  },
  {
   "cell_type": "code",
   "execution_count": null,
   "metadata": {},
   "outputs": [],
   "source": [
    "# Creamos un diccionario que contendrá todas las cartas de la baraja, con\n",
    "# el símbolo del palo y el número de carta como clave, y una codificación\n",
    "# única como valor\n",
    "card_deck_cod = {r_k + s_v: 100 * suit_cod[s_k] + r_v\n",
    "                 for (s_k, s_v) in suits.items()\n",
    "                 for (r_k, r_v) in ranks.items()}\n",
    "print(card_deck_cod)"
   ]
  }
 ],
 "metadata": {
  "interpreter": {
   "hash": "3a457f06cda4579c7033761bf4e886c4764e74b759b9220f07c03aa5d4880471"
  },
  "kernelspec": {
   "display_name": "Python 3.9.5 ('data_science_py395')",
   "language": "python",
   "name": "python3"
  },
  "language_info": {
   "codemirror_mode": {
    "name": "ipython",
    "version": 3
   },
   "file_extension": ".py",
   "mimetype": "text/x-python",
   "name": "python",
   "nbconvert_exporter": "python",
   "pygments_lexer": "ipython3",
   "version": "3.9.5"
  },
  "orig_nbformat": 4
 },
 "nbformat": 4,
 "nbformat_minor": 2
}
