{
 "cells": [
  {
   "cell_type": "markdown",
   "metadata": {},
   "source": [
    "* 1. Calculad la suma de los primeros 100 números pares."
   ]
  },
  {
   "cell_type": "code",
   "execution_count": null,
   "metadata": {},
   "outputs": [],
   "source": [
    "# Opción 1: utilizando una list comprehension que filtra los\n",
    "# valores pares (i % 2 == 0) y sumando los elementos de la lista con sum:\n",
    "suma = sum([i for i in range(200) if i % 2 == 0])\n",
    "print(suma)"
   ]
  },
  {
   "cell_type": "code",
   "execution_count": null,
   "metadata": {},
   "outputs": [],
   "source": [
    "# Opción 2: creando un bucle for con un if dentro, por lo que solo sumamos\n",
    "# los valores pares (i % 2 == 0)\n",
    "suma = 0\n",
    "for i in range(200):\n",
    "    if i % 2 == 0:\n",
    "        suma = suma + i\n",
    "print(suma)"
   ]
  },
  {
   "cell_type": "markdown",
   "metadata": {},
   "source": [
    "* 2. La [secuencia de Fibonacci](https://es.wikipedia.org/wiki/Sucesi%C3%B3n_de_Fibonacci) es una secuencia en la que cada término es la suma de los dos términos anteriores (la secuencia comienza con los valores 1 y 1). Calculad la suma de los 50 primeros valores de la secuencia."
   ]
  },
  {
   "cell_type": "code",
   "execution_count": null,
   "metadata": {},
   "outputs": [],
   "source": [
    "# Respuesta\n",
    "# Creamos una lista con los 50 primeros valores\n",
    "fib = [1, 1]\n",
    "for i in range(48):\n",
    "    fib.append(fib[-1] + fib[-2])\n",
    "print(fib)\n",
    "\n",
    "# Sumamos los valores de la secuencia\n",
    "suma = sum(fib)\n",
    "print(suma)"
   ]
  },
  {
   "cell_type": "code",
   "execution_count": null,
   "metadata": {},
   "outputs": [],
   "source": [
    "# Opción 2: sin crear una lista con los valores de la secuencia\n",
    "\n",
    "suma = 2\n",
    "# Guardamos los dos últimos valores de la secuencia en las variables l1 y l2\n",
    "l1, l2 = 1, 1\n",
    "for i in range(48):\n",
    "    n = l1 + l2\n",
    "    suma += n\n",
    "    l2 = l1\n",
    "    l1 = n\n",
    "\n",
    "print(suma)"
   ]
  },
  {
   "cell_type": "markdown",
   "metadata": {},
   "source": [
    "* 3. Se dice que un número es primo si solo es divisible por sí mismo y por 1. Generad una lista con los 100 primeros números primos."
   ]
  },
  {
   "cell_type": "code",
   "execution_count": null,
   "metadata": {},
   "outputs": [],
   "source": [
    "# Respuesta\n",
    "\n",
    "primes = [2]\n",
    "i = 3\n",
    "while len(primes) != 100:\n",
    "    is_prime = True\n",
    "\n",
    "    # Si i es divisible por cualquiera de los primos que ya hemos identificado,\n",
    "    # entonces i no es primo\n",
    "    for p in primes:\n",
    "        if i % p == 0:\n",
    "            is_prime = False\n",
    "            break\n",
    "    # Si i es primo, lo añadimos a la lista de primos\n",
    "    if is_prime:\n",
    "        primes.append(i)\n",
    "    i += 2\n",
    "\n",
    "print(primes)"
   ]
  },
  {
   "cell_type": "code",
   "execution_count": null,
   "metadata": {},
   "outputs": [],
   "source": [
    "# Sol Carla\n",
    "\n",
    "primos=[]\n",
    "i=1\n",
    "while(len(primos)<100):\n",
    "    i+=1\n",
    "    noprimo=0\n",
    "    for primo in primos:\n",
    "        if i%primo==0:\n",
    "            noprimo=1\n",
    "            break\n",
    "    if (noprimo!=1):\n",
    "        primos.append(i)"
   ]
  },
  {
   "cell_type": "code",
   "execution_count": null,
   "metadata": {},
   "outputs": [],
   "source": [
    "# Sol Carlos\n",
    "\n",
    "def es_primo(n):\n",
    "    for i in range(2, n):\n",
    "        if n % i == 0:\n",
    "            return False\n",
    "    return True\n",
    "lista_primo = [i for i in range(1000) if es_primo(i)]\n",
    "lista_primo = lista_primo[:100]\n",
    "print(lista_primo)\n",
    "len(lista_primo)"
   ]
  },
  {
   "cell_type": "markdown",
   "metadata": {},
   "source": [
    "* 4. Calculad la suma de los cuadrados de los números naturales entre 100 y 200 (ambos valores incluidos)."
   ]
  },
  {
   "cell_type": "code",
   "execution_count": null,
   "metadata": {},
   "outputs": [],
   "source": [
    "# Respuesta\n",
    "# Usamos sum sobre una list comprehension que nos genera los valores\n",
    "# de los cuadrados solicitados\n",
    "sum([x**2 for x in range(100, 201)])"
   ]
  },
  {
   "cell_type": "markdown",
   "metadata": {},
   "source": [
    "* 5. Generad todos los números de 3 dígitos que se pueden generar con los dígitos 3, 5 y 7."
   ]
  },
  {
   "cell_type": "code",
   "execution_count": null,
   "metadata": {},
   "outputs": [],
   "source": [
    "# Respuesta\n",
    "var123 = ['1','2','3']\n",
    "list_num = [l1 + l2 + l3 for l1 in var123 for l2 in var123 for l3 in var123]\n",
    "list_num = [int(i) for i in list_num]\n",
    "list_num"
   ]
  },
  {
   "cell_type": "markdown",
   "metadata": {},
   "source": [
    "* 6. Contad y almacenad el número de veces que aparece cada palabra en el siguiente texto.\n",
    "Forty-two is a pronic number and an abundante number; its prime factorization 2 · 3 · 7 makes it the second sphenic number and also the second of the form (2 · 3 · r)."
   ]
  },
  {
   "cell_type": "code",
   "execution_count": null,
   "metadata": {},
   "outputs": [],
   "source": [
    "# Respuesta\n",
    "text = \"Forty-two is a pronic number and an abundante number; its prime factorization 2 · 3 · 7 makes it the second sphenic number and also the second of the form ( 2 · 3 · r ).\"\n",
    "list_text = text.split()\n",
    "\n",
    "#Hacemos unicas las palabras y limpiamos signos\n",
    "for i in list_text:\n",
    "    if i in '().·;':\n",
    "        list_text.remove(i)\n",
    "\n",
    "list_text2 = list( set(list_text) )\n",
    "\n",
    "cont = [list_text.count(i) for i in list_text2]\n",
    "\n",
    "print(f\"{list_text2[i]} - {cont[i]}\" for i in range( len(cont) ) )"
   ]
  },
  {
   "cell_type": "markdown",
   "metadata": {},
   "source": [
    "* 7. Generad todas las posibles subcadenas de 3 letras de la siguiente palabra: 'Electrodinamómetro'."
   ]
  },
  {
   "cell_type": "code",
   "execution_count": 8,
   "metadata": {},
   "outputs": [
    {
     "name": "stdout",
     "output_type": "stream",
     "text": [
      "['Ele', 'lec', 'ect', 'ctr', 'tro', 'rod', 'odi', 'din', 'ina', 'nam', 'amó', 'móm', 'óme', 'met', 'etr', 'tro']\n"
     ]
    }
   ],
   "source": [
    "# Respuesta\n",
    "cad = \"Electrodinamómetro\"\n",
    "sub_cad = [cad[ i : i + 3] for i in range( len(cad) ) if len( cad[ i : i + 3] ) == 3]\n",
    "print(sub_cad)"
   ]
  },
  {
   "cell_type": "markdown",
   "metadata": {},
   "source": [
    "* 8. Cread una función que devuelva todas las posibles subcadenas de n letras de una palabra cualquiera. La función recibirá como parámetros el número de letras n y la palabra word, y devolverá una lista con las subcadenas."
   ]
  },
  {
   "cell_type": "code",
   "execution_count": 7,
   "metadata": {},
   "outputs": [
    {
     "name": "stdout",
     "output_type": "stream",
     "text": [
      "['Ele', 'lec', 'ect', 'ctr', 'tro', 'rod', 'odi', 'din', 'ina', 'nam', 'amó', 'móm', 'óme', 'met', 'etr', 'tro']\n"
     ]
    }
   ],
   "source": [
    "# Respuesta\n",
    "def posibles_subcadenas(word, n):\n",
    "    sub_cad = [word[ i : i + n] for i in range( len(word) ) if len( word[ i : i + n] ) == n]\n",
    "    return sub_cad\n",
    "\n",
    "word = \"Electrodinamómetro\"\n",
    "print( posibles_subcadenas(word, 3) )\n"
   ]
  }
 ],
 "metadata": {
  "interpreter": {
   "hash": "3a457f06cda4579c7033761bf4e886c4764e74b759b9220f07c03aa5d4880471"
  },
  "kernelspec": {
   "display_name": "Python 3.9.5 ('data_science_py395')",
   "language": "python",
   "name": "python3"
  },
  "language_info": {
   "codemirror_mode": {
    "name": "ipython",
    "version": 3
   },
   "file_extension": ".py",
   "mimetype": "text/x-python",
   "name": "python",
   "nbconvert_exporter": "python",
   "pygments_lexer": "ipython3",
   "version": "3.9.5"
  },
  "orig_nbformat": 4
 },
 "nbformat": 4,
 "nbformat_minor": 2
}
