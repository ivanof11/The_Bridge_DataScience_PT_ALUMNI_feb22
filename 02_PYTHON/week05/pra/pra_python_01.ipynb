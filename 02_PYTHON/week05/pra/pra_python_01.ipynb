{
 "cells": [
  {
   "cell_type": "markdown",
   "metadata": {},
   "source": [
    "### Pregunta 1\n",
    "\n",
    "¿Cuál es el valor final de a, b y c? (atención a los tipos de número decimal y entero)\n",
    "\n",
    "a = 5 * 11\n",
    "\n",
    "b = a / 2.\n",
    "\n",
    "c, a = b * 2, b + 1"
   ]
  },
  {
   "cell_type": "code",
   "execution_count": null,
   "metadata": {},
   "outputs": [],
   "source": [
    "# Respuesta\n",
    "a = 28.5\n",
    "b = 27.5\n",
    "c = 55"
   ]
  },
  {
   "cell_type": "markdown",
   "metadata": {},
   "source": [
    "### Pregunta 2\n",
    "\n",
    "Identifica tres tipos de datos de Python y explica brevemente en qué se diferencian. Explica la diferencia entre el tipo lista y el tipo tupla."
   ]
  },
  {
   "cell_type": "code",
   "execution_count": null,
   "metadata": {},
   "outputs": [],
   "source": [
    "# Respuesta\n",
    "\"\"\"\n",
    "* String : Tipo de dato que referencia al texto\n",
    "* int : tipo de dato que referencia a los números enteros\n",
    "* float: tipo de dato que referencia a los números continuos o reales\n",
    "------------------------------------------------------------------------\n",
    "La diferencia entre el tipo lista y el tipo tupla radica en que la \n",
    "lista se puede manipular los valores, es decir, que son dinámicas y la tupla\n",
    "no permite la manipulación de valores se puede decir que son estáticas. \n",
    "\"\"\""
   ]
  },
  {
   "cell_type": "markdown",
   "metadata": {},
   "source": [
    "### Pregunta 3\n",
    "\n",
    "¿Cuál es el resultado de la operación lógica ` 'manzana'> 'casa'`? Explica por qué. \n",
    "\n",
    "**Nota**: Consultad en estándar [Unicode](https://es.wikipedia.org/wiki/Unicode) para la codificación de caracteres."
   ]
  },
  {
   "cell_type": "code",
   "execution_count": null,
   "metadata": {},
   "outputs": [],
   "source": [
    "# Respuesta\n",
    "\"\"\"\n",
    "Lo que sucede es que está comparando si el identificador númerico que representa\n",
    "'manzana' es mayor al identificador de 'casa'\n",
    "\"\"\""
   ]
  },
  {
   "cell_type": "markdown",
   "metadata": {},
   "source": [
    "### Ejercicio 1\n",
    "\n",
    "Escribir un programa que seleccione la cadena \"analista\" a partir de la cadena: \"Ana es buena analista de datos.\". Mostrar el resultado por pantalla."
   ]
  },
  {
   "cell_type": "code",
   "execution_count": null,
   "metadata": {},
   "outputs": [],
   "source": [
    "# Respuesta\n",
    "text1 = \"Ana es buena analista de datos\"\n",
    "cad = text1.split()\n",
    "\n",
    "for i in cad:\n",
    "    if i == 'analista':\n",
    "        print(i)"
   ]
  },
  {
   "cell_type": "markdown",
   "metadata": {},
   "source": [
    "### Ejercicio 2\n",
    "\n",
    "Qué expresión en Python necesitamos para conseguir el _string_\n",
    "\"nohtyPythonython\" utilizando sólo la palabra \"Python\"? "
   ]
  },
  {
   "cell_type": "code",
   "execution_count": null,
   "metadata": {},
   "outputs": [],
   "source": [
    "# Respuesta\n",
    "pal = \"Python\"\n",
    "\n",
    "print(pal[::-1] + pal[1:] + pal[1:])"
   ]
  },
  {
   "cell_type": "markdown",
   "metadata": {},
   "source": [
    "### Ejercicio 3\n",
    "\n",
    "Escribe un programa que asigne dos valores enteros cualquiera (elije un número entero aleatorio) a dos variables con nombre `a` y `b`. Utiliza las variables definidas anteriormente para evaluar la siguiente expresión matemática:\n",
    "\n",
    "( a<sup>2</sup> + b<sup>2</sup> )<sup>2</sup>\n"
   ]
  },
  {
   "cell_type": "code",
   "execution_count": null,
   "metadata": {},
   "outputs": [],
   "source": [
    "# Respuesta\n",
    "import random \n",
    "a, b = random.randint(0,100), random.randint(0,100)\n",
    "\n",
    "print( (pow(a,2) + pow(b,2)) ** 2)\n"
   ]
  },
  {
   "cell_type": "markdown",
   "metadata": {},
   "source": [
    "### Ejercicio 4\n",
    "\n",
    "Escribir un programa que calcule el volumen de una pirámide cuadrangular con una base de 4x5 metros de longitud y anchura respectivamente, y con una altura de 7,5 m. Recuerda que la fórmula para calcular el volumen es <img src=\"https://wikimedia.org/api/rest_v1/media/math/render/svg/5bbc1ec5d10639d395ebc85e74cbf697d2220035\" title=\"EquacioVolumPiramide\" />\n",
    "\n",
    "donde _l_ y _w_ son la longitud y la anchura de la base, y _h_ es la altura."
   ]
  },
  {
   "cell_type": "code",
   "execution_count": null,
   "metadata": {},
   "outputs": [],
   "source": [
    "# Respuesta\n",
    "l, w, h = 4, 5, 7.5\n",
    "\n",
    "def volumen_piramide(l, w, h):\n",
    "    c = 1 / 3\n",
    "    return c*l*w*h\n",
    "\n",
    "print(volumen_piramide(l,w,h))"
   ]
  },
  {
   "cell_type": "markdown",
   "metadata": {},
   "source": [
    "### Ejercicio 5\n",
    "\n",
    "Escribe un programa que defina una lista con el nombre de todos los meses del año. Haz que muestre los meses que corresponden a otoño."
   ]
  },
  {
   "cell_type": "code",
   "execution_count": null,
   "metadata": {},
   "outputs": [],
   "source": [
    "# Respuesta\n",
    "meses = [\"Enero\",\"Febrero\",\"Marzo\",\"Abril\",\"Mayo\",\"Junio\",\"Julio\",\n",
    "        \"Agosto\",\"Septiembre\",\"Octubre\",\"Noviembre\",\"Diciembre\"]\n",
    "\n",
    "print(meses[8:11])"
   ]
  },
  {
   "cell_type": "markdown",
   "metadata": {},
   "source": [
    "### Ejercicio 6\n",
    "\n",
    "Escribe un programa que a partir de la lista de números dada muestre por pantalla una cadena de caracteres con todos los números, separados entre sí por un guión, y duplicando el primero y el último elemento de la lista.\n",
    "\n",
    "Así, por ejemplo, para la lista ['1', '2', '3'] , el programa debería mostrar la cadena: '1-1-2-3-3'.\n"
   ]
  },
  {
   "cell_type": "code",
   "execution_count": null,
   "metadata": {},
   "outputs": [],
   "source": [
    "# Respuesta\n",
    "lista = ['1', '2', '3']\n",
    "cad = str(lista[0])\n",
    "\n",
    "for i in lista:\n",
    "    cad += \"-\" + i\n",
    "\n",
    "cad += \"-\" + str(lista[-1])\n",
    "\n",
    "print(cad)"
   ]
  },
  {
   "cell_type": "markdown",
   "metadata": {},
   "source": [
    "### Ejercicio 7\n",
    "\n",
    "Ordena la siguiente lista de cadenas de caracteres:\n",
    "\n",
    "1. Invirtiendo el orden original\n",
    "2. En orden alfabético inverso\n",
    "\n",
    "**Nota**: Puedes consultar la documentación oficial de la función [`sorted ()`](https://docs.python.org/3/library/functions.html#sorted) para ver qué parámetros puedes utilizar para resolver la segunda parte de la actividad.\n"
   ]
  },
  {
   "cell_type": "code",
   "execution_count": null,
   "metadata": {},
   "outputs": [],
   "source": [
    "st_chars = [\"Benjamin Sisko\", \"Kira Nerys\", \"Odo\", \"Quark\", \"Jadzia Dax\"]\n",
    "\n",
    "#Invirtiendo el orden original\n",
    "st_chars_reverse = [i for i in reversed(st_chars)]\n",
    "\n",
    "#En orden alfabético inverso\n",
    "st_chars_inv_alf = [i for i in sorted(st_chars,reverse=True)]"
   ]
  },
  {
   "cell_type": "markdown",
   "metadata": {},
   "source": [
    "### Ejercicio 8\n",
    "\n",
    "A partir de la siguiente lista,\n",
    "\n",
    "```A_list = [42, 7.5, \"Answer to the Ultimate Question\", \"Dave\", 7.5]```\n",
    "\n",
    "proporciona expresiones que retornen:\n",
    "\n",
    "1. El número de veces que aparece el elemento `7.5` en la lista.\n",
    "2. La posición de la primera aparición del valor `7.5`.\n",
    "3. La misma lista sin el último elemento.\n",
    "\n",
    "**Nota**: En el notebook de teoría hemos visto que son las listas y algunas operaciones sobre ellas. Para hacer la actividad, necesitaréis investigar algunas operaciones adicionales que podemos realizar sobre listas. Para ello podéis consultar la documentación oficial de Python sobre listas ([intro](https://docs.python.org/3/tutorial/introduction.html#lists) y [más sobre listas](https://docs.python.org/3/tutorial/datastructures.html#more-on-lists))."
   ]
  },
  {
   "cell_type": "code",
   "execution_count": null,
   "metadata": {},
   "outputs": [],
   "source": [
    "# Respuesta\n",
    "A_list = [42, 7.5, \"Answer to the Ultimate Question\", \"Dave\", 7.5]\n",
    "\n",
    "# 1. El número de veces que aparece el elemento `7.5` en la lista.\n",
    "print(A_list.count(7.5))\n",
    "\n",
    "# 2. La posición de la primera aparición del valor `7.5`.\n",
    "print(A_list.index(7.5))\n",
    "\n",
    "# 3. La misma lista sin el último elemento\n",
    "A_list.pop()\n",
    "print(A_list)"
   ]
  },
  {
   "cell_type": "markdown",
   "metadata": {},
   "source": [
    "### Ejercicio 9\n",
    "\n",
    "¿Qué expresión en Python necesitamos para conseguir la _string_ `Learning Python` utilizando sólo las variables` str1` y `str2` definidas?"
   ]
  },
  {
   "cell_type": "code",
   "execution_count": null,
   "metadata": {},
   "outputs": [],
   "source": [
    "# Respuesta\n",
    "str1, str2 = 'Learning', 'Python'\n",
    "\n",
    "print(\"{} {}\".format(str1, str2))"
   ]
  },
  {
   "cell_type": "markdown",
   "metadata": {},
   "source": [
    "### Ejercicio 10\n",
    "\n",
    "El codigo que se presenta a continuación no funciona: \n",
    "\n",
    "Corrige el error y explica por qué sucede."
   ]
  },
  {
   "cell_type": "code",
   "execution_count": null,
   "metadata": {},
   "outputs": [],
   "source": [
    "name = \"Alex\"\n",
    "\n",
    "age = 20\n",
    "\n",
    "print(\"Hello, my name is %s and I'm %d years old!\" % (name, age))\n",
    "\n",
    "\"\"\"\n",
    "Error estaba en el operador %d espera una variable de tipo int, y se le estaba\n",
    "enviando una variable de tipo String \n",
    "\"\"\""
   ]
  },
  {
   "cell_type": "markdown",
   "metadata": {},
   "source": [
    "### Ejercicio 11\n",
    "\n",
    "En este ejercicio utilizaremos la frase: La paciencia es la madre de la ciencia.\n",
    "\n",
    "a) Extrae las palabras paciencia y ciencia de la cadena de strings definida anteriormente.\n",
    "\n",
    "b) Crea la palabra ciencia a partir de paciencia, y la palabra paciencia a partir de ciencia.\n",
    "\n",
    "c) Separa la frase en las diferentes palabras que la forman (e.g. \"La\", \"paciencia,\" es \", etc). ¿Cuál es el separador que debemos usar?\n",
    "\n",
    "d) Vuelve a unir los elementos de la frase mediante \"-\" (e.g. \"La-paciencia-es ...\").\n"
   ]
  },
  {
   "cell_type": "code",
   "execution_count": null,
   "metadata": {},
   "outputs": [],
   "source": [
    "# Respuesta\n",
    "frase = \"La paciencia es la madre de la ciencia\"\n",
    "\n",
    "#Función que devuelve la palabra que buscas en la frase (SI EXISTE)\n",
    "def busca_palabra(frase, palabra):\n",
    "    return frase[ frase.find(palabra) : frase.find(palabra) + len(palabra)]\n",
    "\n",
    "#Extrae las palabras paciencia y ciencia de la cadena de strings definida anteriormente.\n",
    "cad_paciencia, cad_ciencia= busca_palabra(frase, 'paciencia'), busca_palabra(frase, 'ciencia')\n",
    "\n",
    "print(cad_paciencia, cad_ciencia)\n",
    "\n",
    "# Crea la palabra ciencia a partir de paciencia, y la palabra paciencia a partir de ciencia.\n",
    "cad_ciencia2 = busca_palabra(cad_paciencia, 'ciencia')\n",
    "cad_paciencia2 = \"pa\" + cad_ciencia\n",
    "\n",
    "print(cad_ciencia2, cad_paciencia2)\n",
    "\n",
    "# Separa la frase en las diferentes palabras que la forman (e.g. \"La\", \"paciencia,\" es \", etc). ¿Cuál es el separador que debemos usar?\n",
    "frase2 = frase.split(\" \")\n",
    "\n",
    "print(frase2)\n",
    "\n",
    "# Vuelve a unir los elementos de la frase mediante \"-\" (e.g. \"La-paciencia-es ...\").\n",
    "frase3 = \"-\".join(frase2)\n",
    "\n",
    "print(frase3)"
   ]
  }
 ],
 "metadata": {
  "interpreter": {
   "hash": "3a457f06cda4579c7033761bf4e886c4764e74b759b9220f07c03aa5d4880471"
  },
  "kernelspec": {
   "display_name": "Python 3.9.5 ('data_science_py395')",
   "language": "python",
   "name": "python3"
  },
  "language_info": {
   "codemirror_mode": {
    "name": "ipython",
    "version": 3
   },
   "file_extension": ".py",
   "mimetype": "text/x-python",
   "name": "python",
   "nbconvert_exporter": "python",
   "pygments_lexer": "ipython3",
   "version": "3.9.5"
  },
  "orig_nbformat": 4
 },
 "nbformat": 4,
 "nbformat_minor": 2
}
