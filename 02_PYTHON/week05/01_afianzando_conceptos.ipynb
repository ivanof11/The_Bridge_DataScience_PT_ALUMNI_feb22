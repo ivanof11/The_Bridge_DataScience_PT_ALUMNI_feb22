{
 "cells": [
  {
   "cell_type": "markdown",
   "metadata": {},
   "source": [
    " 1. Estructuras de datos para almacenar colecciones de valores"
   ]
  },
  {
   "cell_type": "markdown",
   "metadata": {},
   "source": [
    "* 1.1. Listas\n",
    "\n",
    "Una lista en Python es una colección ordenada de valores, posiblemente heterogéneos. Las listas se pueden modificar (son mutables), y permiten almacenar elementos duplicados."
   ]
  },
  {
   "cell_type": "markdown",
   "metadata": {},
   "source": [
    "Los elementos de una lista se encuentran ordenados, de tal manera que el primer elemento se encuentra indexado con el 0, el segundo con el 1, etc. El último elemento de la lista es pues indexado como el número de elementos de la lista menos uno."
   ]
  },
  {
   "cell_type": "code",
   "execution_count": null,
   "metadata": {},
   "outputs": [],
   "source": [
    "# Las listas pueden ser heterogéneas y tener duplicados\n",
    "a_list = [1, 1, 3.5, \"strings also\", [None, 4], {\"student\":\"josefina\"}]\n",
    "print(\"The list is:\\n\\t{}\".format(a_list))"
   ]
  },
  {
   "cell_type": "code",
   "execution_count": null,
   "metadata": {},
   "outputs": [],
   "source": [
    "type(a_list[-1])"
   ]
  },
  {
   "cell_type": "code",
   "execution_count": null,
   "metadata": {},
   "outputs": [],
   "source": [
    "a_list[-1].keys()"
   ]
  },
  {
   "cell_type": "code",
   "execution_count": null,
   "metadata": {},
   "outputs": [],
   "source": [
    "a_list[-1][\"student\"] # posición 2 de índice 1"
   ]
  },
  {
   "cell_type": "code",
   "execution_count": null,
   "metadata": {},
   "outputs": [],
   "source": [
    "# Las listas son mutables y ordenadas\n",
    "a_list.append(5)"
   ]
  },
  {
   "cell_type": "code",
   "execution_count": null,
   "metadata": {},
   "outputs": [],
   "source": [
    "a_list.remove(3.5)"
   ]
  },
  {
   "cell_type": "code",
   "execution_count": null,
   "metadata": {},
   "outputs": [],
   "source": [
    "a_list"
   ]
  },
  {
   "cell_type": "markdown",
   "metadata": {},
   "source": [
    "Hacemos ahora un repaso rápido a los métodos implementados para las listas (encontraréis el detalle de todos los métodos [aquí](https://docs.python.org/3/tutorial/datastructures.html#more-on-lists)). Podemos añadir elementos al final de una lista con **append** o en cualquier posición con **insert**. También podemos eliminar un elemento de una lista a partir de su posición con **pop** o bien a partir de su valor con **remove** (remove elimina el primer elemento de la lista que coincide con el valor especificado). Dos listas se pueden concatenar con **extend** o bien con el operador de suma +."
   ]
  },
  {
   "cell_type": "code",
   "execution_count": null,
   "metadata": {},
   "outputs": [],
   "source": [
    "# Añadimos un elemento al final de la lista\n",
    "a_list.append(41)\n",
    "print(\"After appending 41:\\n\\t{}\".format(a_list))"
   ]
  },
  {
   "cell_type": "code",
   "execution_count": null,
   "metadata": {},
   "outputs": [],
   "source": [
    "# Añadimos un elemento al inicio de la lista\n",
    "a_list.insert(0, -1)\n",
    "print(\"After inserting -1:\\n\\t{}\".format(a_list))"
   ]
  },
  {
   "cell_type": "code",
   "execution_count": null,
   "metadata": {},
   "outputs": [],
   "source": [
    "# Eliminamos el primer elemento\n",
    "a_list.pop(0)\n",
    "print(\"After removing the first element:\\n\\t{}\".format(a_list))"
   ]
  },
  {
   "cell_type": "code",
   "execution_count": null,
   "metadata": {},
   "outputs": [],
   "source": [
    "a_list"
   ]
  },
  {
   "cell_type": "code",
   "execution_count": null,
   "metadata": {},
   "outputs": [],
   "source": [
    "# Eliminamos el elemento \"strings also\"\n",
    "a_list.remove(\"strings also\")\n",
    "print(\"After removing 'strings also':\\n\\t{}\".format(a_list))"
   ]
  },
  {
   "cell_type": "code",
   "execution_count": null,
   "metadata": {},
   "outputs": [],
   "source": [
    "# Concatena la lista con ella misma\n",
    "a_list = a_list + a_list\n",
    "print(\"After duplicating the list:\\n\\t{}\".format(a_list))"
   ]
  },
  {
   "cell_type": "markdown",
   "metadata": {},
   "source": [
    "También podemos recuperar la posición del primer elemento de una lista que tiene un cierto valor con **index**, o bien contar el número de veces que aparece un determinado elemento con **count**."
   ]
  },
  {
   "cell_type": "code",
   "execution_count": null,
   "metadata": {},
   "outputs": [],
   "source": [
    "print(a_list)"
   ]
  },
  {
   "cell_type": "code",
   "execution_count": null,
   "metadata": {},
   "outputs": [],
   "source": [
    "# Recuperamos el índice de la primera aparición del valor 5\n",
    "a_list.index(5)"
   ]
  },
  {
   "cell_type": "code",
   "execution_count": null,
   "metadata": {},
   "outputs": [],
   "source": [
    "# Contamos el número de veces que el valor 1 aparece en la lista\n",
    "a_list.count(1)"
   ]
  },
  {
   "cell_type": "code",
   "execution_count": null,
   "metadata": {},
   "outputs": [],
   "source": [
    "# Contamos el número de veces que el valor 1 aparece en la lista\n",
    "c = a_list.count(4)\n",
    "print(c)"
   ]
  },
  {
   "cell_type": "code",
   "execution_count": null,
   "metadata": {},
   "outputs": [],
   "source": [
    "dict_ex = {\n",
    "    \"coches\": [{\n",
    "        \n",
    "        \"bmw\" : [\n",
    "            {\n",
    "                \"modelo\": \"318d\",\n",
    "                \"precio\": 30000\n",
    "            },\n",
    "            {\n",
    "                \"modelo\" : \"x5\",\n",
    "                \"precio\" : 40000\n",
    "            }\n",
    "        ],\n",
    "        \"mercedes\" : [\n",
    "            {\n",
    "                \"modelo\": \"classC\",\n",
    "                \"precio\": 30000\n",
    "            },\n",
    "            {\n",
    "                \"modelo\" : \"classA\",\n",
    "                \"precio\" : 40000\n",
    "            }\n",
    "        ]\n",
    "    }]\n",
    "}"
   ]
  },
  {
   "cell_type": "code",
   "execution_count": null,
   "metadata": {},
   "outputs": [],
   "source": [
    "type(dict_ex)"
   ]
  },
  {
   "cell_type": "code",
   "execution_count": null,
   "metadata": {},
   "outputs": [],
   "source": [
    "dict_ex"
   ]
  },
  {
   "cell_type": "code",
   "execution_count": null,
   "metadata": {},
   "outputs": [],
   "source": [
    "len(dict_ex)"
   ]
  },
  {
   "cell_type": "code",
   "execution_count": null,
   "metadata": {},
   "outputs": [],
   "source": [
    "dict_ex.keys()"
   ]
  },
  {
   "cell_type": "code",
   "execution_count": null,
   "metadata": {},
   "outputs": [],
   "source": [
    "dict_ex.values()"
   ]
  },
  {
   "cell_type": "code",
   "execution_count": null,
   "metadata": {},
   "outputs": [],
   "source": [
    "dict_ex['coches']"
   ]
  },
  {
   "cell_type": "code",
   "execution_count": null,
   "metadata": {},
   "outputs": [],
   "source": [
    "len(dict_ex['coches'])"
   ]
  },
  {
   "cell_type": "code",
   "execution_count": null,
   "metadata": {},
   "outputs": [],
   "source": [
    "type(dict_ex['coches'])"
   ]
  },
  {
   "cell_type": "code",
   "execution_count": null,
   "metadata": {},
   "outputs": [],
   "source": [
    "type(dict_ex['coches'][0])"
   ]
  },
  {
   "cell_type": "code",
   "execution_count": null,
   "metadata": {},
   "outputs": [],
   "source": [
    "dict_ex['coches'][0].keys()"
   ]
  },
  {
   "cell_type": "code",
   "execution_count": null,
   "metadata": {},
   "outputs": [],
   "source": [
    "dict_ex['coches'][0]['bmw']"
   ]
  },
  {
   "cell_type": "code",
   "execution_count": null,
   "metadata": {},
   "outputs": [],
   "source": [
    "len(dict_ex['coches'][0]['bmw'])"
   ]
  },
  {
   "cell_type": "code",
   "execution_count": null,
   "metadata": {},
   "outputs": [],
   "source": [
    "dict_ex['coches'][0]['bmw']"
   ]
  },
  {
   "cell_type": "code",
   "execution_count": null,
   "metadata": {},
   "outputs": [],
   "source": [
    "for idx, coche in enumerate(dict_ex['coches'][0]['bmw']):\n",
    "    print(idx, coche['modelo'], coche['precio'])"
   ]
  },
  {
   "cell_type": "code",
   "execution_count": null,
   "metadata": {},
   "outputs": [],
   "source": []
  },
  {
   "cell_type": "markdown",
   "metadata": {},
   "source": [
    "* 1.1.1. List slicing\n",
    "\n",
    "La técnica de list slicing nos permite acceder a subconjuntos de elementos de una lista de manera sencilla y compacta. La sintaxis completa de list slicing consta del nombre de la variable que contiene la lista, seguida de [X:Y:Z], donde X representa el inicio del fragmento que queremos recuperar,Y el final del fragmento y Z el paso o granularidad del fragmento:"
   ]
  },
  {
   "cell_type": "code",
   "execution_count": null,
   "metadata": {},
   "outputs": [],
   "source": [
    "a_list = [\"A\", \"B\", \"C\", \"D\", \"E\", \"F\"]\n",
    "print(a_list)"
   ]
  },
  {
   "cell_type": "code",
   "execution_count": null,
   "metadata": {},
   "outputs": [],
   "source": [
    "# Mostramos los elementos en las posiciones de 0 a 4, saltando de dos en dos\n",
    "print(a_list[0:3])"
   ]
  },
  {
   "cell_type": "code",
   "execution_count": null,
   "metadata": {},
   "outputs": [],
   "source": [
    "# Mostramos los elementos en las posiciones de 0 a 2, saltando de uno en uno\n",
    "print(a_list[0:3:1])"
   ]
  },
  {
   "cell_type": "code",
   "execution_count": null,
   "metadata": {},
   "outputs": [],
   "source": [
    "# Mostramos los elementos en las posiciones de 2 a 4, saltando de uno en uno\n",
    "print(a_list[2:5:1])"
   ]
  },
  {
   "cell_type": "code",
   "execution_count": null,
   "metadata": {},
   "outputs": [],
   "source": [
    "# Mostramos los elementos en las posiciones de 0 a 4, saltando de dos en dos\n",
    "print(a_list[0:5:2])"
   ]
  },
  {
   "cell_type": "code",
   "execution_count": null,
   "metadata": {},
   "outputs": [],
   "source": [
    "print(a_list[0:5:3])"
   ]
  },
  {
   "cell_type": "code",
   "execution_count": null,
   "metadata": {},
   "outputs": [],
   "source": [
    "print(a_list[5:-1])"
   ]
  },
  {
   "cell_type": "code",
   "execution_count": null,
   "metadata": {},
   "outputs": [],
   "source": [
    "print(a_list[2:5])"
   ]
  },
  {
   "cell_type": "code",
   "execution_count": null,
   "metadata": {},
   "outputs": [],
   "source": [
    "print(a_list[:3])"
   ]
  },
  {
   "cell_type": "code",
   "execution_count": null,
   "metadata": {},
   "outputs": [],
   "source": [
    "# Omitimos el inicio y el final: mostramos todos los elementos, saltando de dos\n",
    "# en dos\n",
    "print(a_list[::2])"
   ]
  },
  {
   "cell_type": "markdown",
   "metadata": {},
   "source": [
    " Como último apunte, es interesante notar que podemos utilizar valores negativos en los índices. Así, por ejemplo, si queremos recorrer una lista en orden inverso, podemos hacerlo usando un paso de -1:"
   ]
  },
  {
   "cell_type": "code",
   "execution_count": null,
   "metadata": {},
   "outputs": [],
   "source": [
    "a_list.reverse()"
   ]
  },
  {
   "cell_type": "code",
   "execution_count": null,
   "metadata": {},
   "outputs": [],
   "source": [
    "a_list = reversed(a_list)"
   ]
  },
  {
   "cell_type": "code",
   "execution_count": null,
   "metadata": {},
   "outputs": [],
   "source": [
    "for i in a_list:\n",
    "    print(i)"
   ]
  },
  {
   "cell_type": "code",
   "execution_count": null,
   "metadata": {},
   "outputs": [],
   "source": [
    "a_list"
   ]
  },
  {
   "cell_type": "code",
   "execution_count": null,
   "metadata": {},
   "outputs": [],
   "source": [
    "a_list"
   ]
  },
  {
   "cell_type": "code",
   "execution_count": null,
   "metadata": {},
   "outputs": [],
   "source": [
    "print(a_list[::-1])"
   ]
  },
  {
   "cell_type": "markdown",
   "metadata": {},
   "source": [
    "* 1.1.2. List comprehensions\n",
    "\n",
    "Una de las funcionalidades más usadas de las listas son las list comprehensions, que permiten crear listas con expresiones muy concisas. Con las **list comprehensions** se pueden crear nuevas listas a partir de una (o varias) listas originales, operando sobre los valores originales y/o filtrándolos. La sintaxis de una list comprehension consta de unos corchetes (que definen la lista), que contienen al menos una cláusula *for* y que pueden tener también cláusulas *if*. Veámoslo con algunos ejemplos:"
   ]
  },
  {
   "cell_type": "code",
   "execution_count": 2,
   "metadata": {},
   "outputs": [],
   "source": [
    "a_list = [\"A\", \"B\", \"C\", \"D\", \"E\", \"F\"]"
   ]
  },
  {
   "cell_type": "code",
   "execution_count": 3,
   "metadata": {},
   "outputs": [
    {
     "name": "stdout",
     "output_type": "stream",
     "text": [
      "AA\n",
      "BB\n",
      "CC\n",
      "DD\n",
      "EE\n",
      "FF\n"
     ]
    }
   ],
   "source": [
    "for ele in a_list:\n",
    "    print(ele+ele)"
   ]
  },
  {
   "cell_type": "code",
   "execution_count": 4,
   "metadata": {},
   "outputs": [
    {
     "data": {
      "text/plain": [
       "['AA', 'BB', 'CC', 'DD', 'EE', 'FF']"
      ]
     },
     "execution_count": 4,
     "metadata": {},
     "output_type": "execute_result"
    }
   ],
   "source": [
    "# en list comprehension sería dar primer lugar el resultado y luego la iteración\n",
    "[(ele+ele) for ele in a_list]"
   ]
  },
  {
   "cell_type": "code",
   "execution_count": null,
   "metadata": {},
   "outputs": [],
   "source": [
    "nums = list(range(100000))\n",
    "type(nums)"
   ]
  },
  {
   "cell_type": "code",
   "execution_count": null,
   "metadata": {},
   "outputs": [],
   "source": [
    "lista_nueva = []\n",
    "for num in nums:\n",
    "    lista_nueva.append(num+3)"
   ]
  },
  {
   "cell_type": "code",
   "execution_count": null,
   "metadata": {},
   "outputs": [],
   "source": [
    "lista_nueva = [num+3 for num in nums]"
   ]
  },
  {
   "cell_type": "code",
   "execution_count": null,
   "metadata": {},
   "outputs": [],
   "source": [
    "lista_nueva"
   ]
  },
  {
   "cell_type": "code",
   "execution_count": null,
   "metadata": {},
   "outputs": [],
   "source": [
    "# Creamos una lista con los valores (i + 1) / (i - 1) para cada i de la\n",
    "# lista original\n",
    "def long_exp(i):\n",
    "    if i != 1:\n",
    "        r = (i + 1) / (i - 1)\n",
    "    else:\n",
    "        r = 0\n",
    "    return r"
   ]
  },
  {
   "cell_type": "code",
   "execution_count": null,
   "metadata": {},
   "outputs": [],
   "source": [
    "nums_f = [long_exp(n) for n in nums]"
   ]
  },
  {
   "cell_type": "code",
   "execution_count": null,
   "metadata": {},
   "outputs": [],
   "source": [
    "nums_f"
   ]
  },
  {
   "cell_type": "code",
   "execution_count": null,
   "metadata": {},
   "outputs": [],
   "source": [
    "# Creamos una lista con cadenas de caracteres \"Num: n\" para cada n de la\n",
    "# lista original\n",
    "nums_str = [\"Num: \" + str(n) for n in nums]\n",
    "print(nums_str)"
   ]
  },
  {
   "cell_type": "code",
   "execution_count": null,
   "metadata": {},
   "outputs": [],
   "source": [
    "# Creamos una lista con cadenas de caracteres \"Num: n\" para cada n de la\n",
    "# lista original\n",
    "nums_str = [f\"Num: {n}\" for n in nums]\n",
    "print(nums_str)"
   ]
  },
  {
   "cell_type": "code",
   "execution_count": null,
   "metadata": {},
   "outputs": [],
   "source": [
    "# Creamos una lista con cadenas de caracteres \"Num: n\" para cada n de la\n",
    "# lista original\n",
    "nums_str = [\"Num: {}\".format(str(n)) for n in nums]\n",
    "print(nums_str)"
   ]
  },
  {
   "cell_type": "code",
   "execution_count": null,
   "metadata": {},
   "outputs": [],
   "source": [
    "# Creamos una lista con cadenas de caracteres \"Num: n\" para cada n de la\n",
    "# lista original\n",
    "nums_str = [\"Num: \",n for n in nums]\n",
    "print(nums_str)"
   ]
  },
  {
   "cell_type": "code",
   "execution_count": null,
   "metadata": {},
   "outputs": [],
   "source": [
    "nums_f2 = [(n+1)/(n-1) if n != 1 else 0 for n in nums]\n",
    "nums_f2"
   ]
  },
  {
   "cell_type": "code",
   "execution_count": null,
   "metadata": {},
   "outputs": [],
   "source": [
    "nums[5]"
   ]
  },
  {
   "cell_type": "markdown",
   "metadata": {},
   "source": [
    "`[(5+1)/(5-1) for 5 in nums if 5 != 1]`"
   ]
  },
  {
   "cell_type": "code",
   "execution_count": null,
   "metadata": {},
   "outputs": [],
   "source": [
    "(5+1)/(5-1)"
   ]
  },
  {
   "cell_type": "code",
   "execution_count": null,
   "metadata": {},
   "outputs": [],
   "source": [
    "nums_f2 = [(n+1)/(n-1) for n in nums if n != 1]\n",
    "nums_f2"
   ]
  },
  {
   "cell_type": "markdown",
   "metadata": {},
   "source": [
    "Tened en cuenta que una list comprehension puede evaluar una función (en el segundo ejemplo de la celda anterior, se evalúa la función long_exp para cada valor de la lista nums). Ahora bien, ¿podríamos obtener el mismo resultado sin definir la función long_exp? Para hacerlo, podríamos usar una expresión if en una sola línea para obtener el mismo resultado sin tener que definir la función long_exp:"
   ]
  },
  {
   "cell_type": "markdown",
   "metadata": {},
   "source": [
    "Así pues, hemos utilizado la sintaxis compacta del if, reduciéndolo a una sola línea de código. Fijaos que hemos aprovechado que los siguientes dos bloques de código son equivalentes:"
   ]
  },
  {
   "cell_type": "code",
   "execution_count": null,
   "metadata": {},
   "outputs": [],
   "source": [
    "i = 5\n",
    "\n",
    "# Bloque 1:\n",
    "if i != 1:\n",
    "    r = (i + 1) / (i - 1)\n",
    "else:\n",
    "    r = 0\n",
    "\n",
    "# Bloque 2:\n",
    "r = (i+1)/(i-1) if i != 1 else 0\n",
    "r"
   ]
  },
  {
   "cell_type": "markdown",
   "metadata": {},
   "source": [
    "Las list comprehension también pueden incluir **condicionales** que sirven para filtrar qué valores de la o las listas originales se consideran en la creación de la nueva lista. En estos casos, la lista resultante tendrá una longitud igual o menor a la de la lista original, en función del número de veces que se cumpla la condición del if:"
   ]
  },
  {
   "cell_type": "code",
   "execution_count": null,
   "metadata": {},
   "outputs": [],
   "source": [
    "# Creamos una nueva lista que contiene únicamente los valores pares de la\n",
    "# lista nums\n",
    "nums_even = [n for n in nums if not n % 2]\n",
    "\n",
    "print(\"nums:\\t\\t{}\".format(list(nums)))\n",
    "print(\"nums_even:\\t{}\".format(nums_even))\n",
    "print(\"nums has {} elements and nums_even has {} elements\\n\".\n",
    "      format(len(nums), len(nums_even)))"
   ]
  },
  {
   "cell_type": "code",
   "execution_count": null,
   "metadata": {},
   "outputs": [],
   "source": [
    "# Creamos una nueva lista a partir de a_list que contiene solo elementos enteros\n",
    "a_list_of_int = [n for n in nums if type(n) == int]\n",
    "a_list_of_int"
   ]
  },
  {
   "cell_type": "code",
   "execution_count": null,
   "metadata": {},
   "outputs": [],
   "source": [
    "# Creamos una nueva lista a partir de una lista de números escritos en letras\n",
    "# que contiene los números tales que su expresión requiere más letras que el\n",
    "# propio número\n",
    "num_words = [\"zero\", \"one\", \"two\", \"three\", \"four\", \"five\", \"six\",\n",
    "             \"seven\"]"
   ]
  },
  {
   "cell_type": "code",
   "execution_count": null,
   "metadata": {},
   "outputs": [],
   "source": [
    "for idx, num in enumerate(num_words):\n",
    "    print(idx,num)"
   ]
  },
  {
   "cell_type": "code",
   "execution_count": null,
   "metadata": {},
   "outputs": [],
   "source": [
    "num_words_c  = [w for i,w in enumerate(num_words) if len(w) > i]\n",
    "num_words_c"
   ]
  },
  {
   "cell_type": "code",
   "execution_count": null,
   "metadata": {},
   "outputs": [],
   "source": [
    "# Observemos el resultado de enumerate\n",
    "list(enumerate(['one', 'two', 'three']))"
   ]
  },
  {
   "cell_type": "markdown",
   "metadata": {},
   "source": [
    "Las list comprehension no se limitan a una sola expresión for. Podemos utilizar más de una para construir una lista a partir de valores de varios iterables:"
   ]
  },
  {
   "cell_type": "markdown",
   "metadata": {},
   "source": [
    "```\n",
    "[ resultado esperado FOR elemento de una lista IF ....]\n",
    "```"
   ]
  },
  {
   "cell_type": "code",
   "execution_count": null,
   "metadata": {},
   "outputs": [],
   "source": [
    "list_1 = [1, 2, 3]\n",
    "list_2 = [10, 100]"
   ]
  },
  {
   "cell_type": "code",
   "execution_count": null,
   "metadata": {},
   "outputs": [],
   "source": [
    "list_1[0] # por cada uno de los elementos cuyo indice sea...."
   ]
  },
  {
   "cell_type": "code",
   "execution_count": null,
   "metadata": {},
   "outputs": [],
   "source": [
    "list_2[0]"
   ]
  },
  {
   "cell_type": "code",
   "execution_count": null,
   "metadata": {},
   "outputs": [],
   "source": [
    "# Creamos una lista de tuplas con las parejas de valores\n",
    "# de list_1 y list_2 = (v1, v2)\n",
    "list_pairs = [(l1, l2) for l1 in list_1 for l2 in list_2]\n",
    "list_pairs"
   ]
  },
  {
   "cell_type": "code",
   "execution_count": null,
   "metadata": {},
   "outputs": [],
   "source": [
    "# Creamos una lista sumando las posibles combinaciones de valores\n",
    "# de list_1 y list_2 "
   ]
  },
  {
   "cell_type": "code",
   "execution_count": null,
   "metadata": {},
   "outputs": [],
   "source": [
    "list_1"
   ]
  },
  {
   "cell_type": "code",
   "execution_count": null,
   "metadata": {},
   "outputs": [],
   "source": [
    "list_2"
   ]
  },
  {
   "cell_type": "code",
   "execution_count": null,
   "metadata": {},
   "outputs": [],
   "source": [
    "list_1[0] + list_2[0]"
   ]
  },
  {
   "cell_type": "code",
   "execution_count": null,
   "metadata": {},
   "outputs": [],
   "source": [
    "for i in list_1:\n",
    "    for j in list_2:\n",
    "        print(i+j)"
   ]
  },
  {
   "cell_type": "code",
   "execution_count": null,
   "metadata": {},
   "outputs": [],
   "source": [
    "[l2 + l1 for l1 in list_2 for l2 in list_1]"
   ]
  },
  {
   "cell_type": "code",
   "execution_count": null,
   "metadata": {},
   "outputs": [],
   "source": [
    "# Creamos una lista de todas las palabras de 3 letras que se pueden hacer\n",
    "# con las letras A, B y C\n",
    "abc = ['A', 'B', 'C']"
   ]
  },
  {
   "cell_type": "code",
   "execution_count": null,
   "metadata": {},
   "outputs": [],
   "source": [
    "list_words = [l1 + l2 + l3 \n",
    "    for l1 in abc for l2 in abc for l3 in abc]\n",
    "list_words"
   ]
  },
  {
   "cell_type": "code",
   "execution_count": null,
   "metadata": {},
   "outputs": [],
   "source": [
    "# Creamos una lista de todas las palabras de 3 letras que se pueden hacer\n",
    "# con las letras A, B y C y donde la primera y última letras son diferentes"
   ]
  }
 ],
 "metadata": {
  "interpreter": {
   "hash": "3a457f06cda4579c7033761bf4e886c4764e74b759b9220f07c03aa5d4880471"
  },
  "kernelspec": {
   "display_name": "Python 3.9.5 ('data_science_py395')",
   "language": "python",
   "name": "python3"
  },
  "language_info": {
   "codemirror_mode": {
    "name": "ipython",
    "version": 3
   },
   "file_extension": ".py",
   "mimetype": "text/x-python",
   "name": "python",
   "nbconvert_exporter": "python",
   "pygments_lexer": "ipython3",
   "version": "3.9.5"
  },
  "orig_nbformat": 4
 },
 "nbformat": 4,
 "nbformat_minor": 2
}
