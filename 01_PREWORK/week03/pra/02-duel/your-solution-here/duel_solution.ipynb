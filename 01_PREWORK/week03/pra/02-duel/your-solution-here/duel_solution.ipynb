{
 "cells": [
  {
   "cell_type": "markdown",
   "metadata": {},
   "source": [
    "# Duelo de magos\n",
    "Estás presenciando una batalla épica entre dos poderosos magos: Gandalf y Saruman. Cada mago tiene 10 hechizos de potencia variable en su mente y los van a lanzar uno tras otro. El ganador del duelo será el que gane más de esos choques entre hechizos. Los hechizos se representan como una lista de 10 números enteros cuyo valor equivale a la potencia del hechizo. \n",
    "```\n",
    "gandalf = [10, 11, 13, 30, 22, 11, 10, 33, 22, 22]\n",
    "saruman = [23, 66, 12, 43, 12, 10, 44, 23, 12, 17]\n",
    "```\n",
    "Por ejemplo: \n",
    "1. El primer choque lo gana Saruman: 10 contra 23, gana el 23\n",
    "2. El segundo choque gana Saruman: 11 contra 66, gana el 66\n",
    "3. etc.\n",
    "\n",
    "\n",
    "Vas a crear dos variables, una por cada mago, donde se almacenarán la suma de choques de hechizos ganados. En función de qué variable sea mayor al final del duelo, mostrarás por pantalla uno de los tres siguientes resultados: \n",
    "* Gandalf gana\n",
    "* Saruman gana\n",
    "* Empate\n",
    "\n",
    "\n",
    "1. El primer choque lo gana Saruman: 10 contra 23, gana el 23\n",
    "2. El segundo choque gana Saruman: 11 contra 66, gana el 66\n",
    "3. etc."
   ]
  },
  {
   "cell_type": "markdown",
   "metadata": {},
   "source": [
    "## Solución"
   ]
  },
  {
   "cell_type": "code",
   "execution_count": 13,
   "metadata": {},
   "outputs": [
    {
     "name": "stdout",
     "output_type": "stream",
     "text": [
      "range(0, 10)\n",
      "range(0, 10)\n",
      "El choque 0 lo gana Saruman: 10 contra 23, gana el 23\n",
      "El choque 1 lo gana Saruman: 11 contra 66, gana el 66\n",
      "El choque 2 lo gana Gandalf: 13 contra 12, gana el 13\n",
      "El choque 3 lo gana Saruman: 30 contra 43, gana el 43\n",
      "El choque 4 lo gana Gandalf: 22 contra 12, gana el 22\n",
      "El choque 5 lo gana Gandalf: 11 contra 10, gana el 11\n",
      "El choque 6 lo gana Saruman: 10 contra 44, gana el 44\n",
      "El choque 7 lo gana Gandalf: 33 contra 23, gana el 33\n",
      "El choque 8 lo gana Gandalf: 22 contra 12, gana el 22\n",
      "El choque 9 lo gana Gandalf: 22 contra 17, gana el 22\n",
      "Gandalf gana.\n"
     ]
    }
   ],
   "source": [
    "# Asignamos las listas de hechizos a variables\n",
    "gandalf = [10, 11, 13, 30, 22, 11, 10, 33, 22, 22]\n",
    "saruman = [23, 66, 12, 43, 12, 10, 44, 23, 12, 17]\n",
    "\n",
    "# Asignamos 0 a cada variable que almacena las victorias\n",
    "victoria_saruman = 0; victoria_gandalf = 0\n",
    "total_hechizos = range(len(gandalf))\n",
    "# Ejecución de los choques de hechizos\n",
    "for n in total_hechizos:\n",
    "    if gandalf[n] > saruman[n]:\n",
    "        victoria_gandalf += 1\n",
    "        print(f\"El choque {n} lo gana Gandalf: {gandalf[n]} contra {saruman[n]}, gana el {gandalf[n]}\")\n",
    "    elif saruman[n] > gandalf[n]:\n",
    "        victoria_saruman += 1\n",
    "        print(f\"El choque {n} lo gana Saruman: {gandalf[n]} contra {saruman[n]}, gana el {saruman[n]}\")\n",
    "\n",
    "# Comprobamos quién ha ganado, no olvides la posibilidad de empate.\n",
    "if(victoria_gandalf > victoria_saruman):\n",
    "    print(f\"Gandalf gana.\")\n",
    "elif(victoria_gandalf < victoria_saruman):\n",
    "    print(f\"Garuman gana.\")\n",
    "else:\n",
    "    print(f\"Empate.\")\n",
    "# Imprime el resultado en función del ganador. \n",
    "\n"
   ]
  },
  {
   "cell_type": "markdown",
   "metadata": {},
   "source": [
    "## Objetivos\n",
    "\n",
    "1. Tratamiento de listas\n",
    "2. Uso de bucle **for**\n",
    "3. Uso de condicionales **if-elif-else**\n",
    "4. Uso de las funciones **range(), len()**\n",
    "5. Imprimir por consola"
   ]
  }
 ],
 "metadata": {
  "interpreter": {
   "hash": "87dd7c8bfa414c2b7cb461fe244ad5a46bc6a938f79a6b46cbe8b797df3f0e67"
  },
  "kernelspec": {
   "display_name": "Python 3.9.5 ('the_bridge_22')",
   "language": "python",
   "name": "python3"
  },
  "language_info": {
   "codemirror_mode": {
    "name": "ipython",
    "version": 3
   },
   "file_extension": ".py",
   "mimetype": "text/x-python",
   "name": "python",
   "nbconvert_exporter": "python",
   "pygments_lexer": "ipython3",
   "version": "3.9.5"
  },
  "orig_nbformat": 4
 },
 "nbformat": 4,
 "nbformat_minor": 2
}
