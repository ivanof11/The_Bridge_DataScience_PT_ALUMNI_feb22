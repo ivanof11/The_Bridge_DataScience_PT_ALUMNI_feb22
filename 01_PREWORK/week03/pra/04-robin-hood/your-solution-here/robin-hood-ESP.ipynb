{
 "cells": [
  {
   "cell_type": "markdown",
   "metadata": {},
   "source": [
    "# Robin Hood: \n",
    "Estamos en plena competición para ganar el concurso de tiro con arco en Sherwood. Con nuestro arco y flechas disparamos sobre una diana e intentamos acertar lo más cerca posible del centro. \n",
    "\n",
    "El centro de la diana viene representado por los valores (0, 0) en los ejes de coordenadas. \n",
    "\n",
    "## Objetivos: \n",
    "* estructuras de datos: listas, conjuntos, tuplas\n",
    "* operadores lógicos: if-elif-else\n",
    "* bucle: while/for\n",
    "* cálculo de mínimo (sorting opcional)\n",
    "\n",
    "## Descripción: \n",
    "En el espacio de 2 dimensiones un punto se puede definir por un par de valores que corresponden a la coordenada horizontal (x) y a la vertical (y). El espacio puede quedar dividido en 4 zonas (cuadrantes): Q1, Q2, Q3, Q4. Cuyo punto de unión único es el punto (0, 0). \n",
    "\n",
    "Si un punto se encuentra en Q1 tanto su coordenada x como la y son positivas. Te dejo un enlace a wikipedia para que te familiarices con estos cuadrantes. \n",
    "\n",
    "https://es.wikipedia.org/wiki/Coordenadas_cartesianas\n",
    "\n",
    "https://es.wikipedia.org/wiki/Distancia_euclidiana\n",
    "\n",
    "![i](https://wikimedia.org/api/rest_v1/media/math/render/svg/92d49b1b717fc1b18de1b7bebddc78d56b9ac79c)\n",
    "\n",
    "## Tareas\n",
    "1. Robin Hood es famoso por acertar a una flecha con otra flecha. ¿Lo ha conseguido? \n",
    "2. Calcula cuántos flechazos han caido en cada cuadrante. \n",
    "3. Halla el punto más cercano al centro. Calcula su distancia al centro\n",
    "4. Si la diana tiene un radio de 9, calcula el número de flechas que hay que recoger al bosque. "
   ]
  },
  {
   "cell_type": "code",
   "execution_count": 20,
   "metadata": {},
   "outputs": [
    {
     "name": "stdout",
     "output_type": "stream",
     "text": [
      "Lo ha conseguido! en (5, 7)\n",
      "I:10 II:8 III:2 IV:2\n",
      "La flecha más cercana al centro fue (0, 2)\n",
      "La flecha más cercana al centro fue (0, -2)\n",
      "Hay que recoger 2 flechas\n"
     ]
    }
   ],
   "source": [
    "puntos = [(4,5), (-0,2), (4,7), (1,-3), (3,-2), (4,5), \n",
    "          (3,2), (5,7), (-5,7), (2,2), (-4,5), (0,-2), \n",
    "          (-4,7), (-1,3), (-3,2), (-4,-5), (-3,2), \n",
    "          (5,7), (5,7), (2,2), (9, 9), (-8, -9)]\n",
    "\n",
    "# 1. Robin Hood es famoso por acertar a una flecha con otra flecha. ¿Lo ha conseguido? \n",
    "flecha_anterior = (puntos[0])\n",
    "for n in range(1, len(puntos)):\n",
    "    if puntos[n] == flecha_anterior:\n",
    "        print(f\"Lo ha conseguido! en {flecha_anterior}\")\n",
    "    else:\n",
    "        flecha_anterior = puntos[n]\n",
    "\n",
    "# 2. Calcula cuántos flechazos han caido en cada cuadrante. \n",
    "q1, q2, q3, q4 = 0, 0, 0, 0\n",
    "x, y = 0, 1\n",
    "\n",
    "for i  in range(0, len(puntos)):\n",
    "    if puntos[i][x] > 0 and puntos[i][y] > 0:\n",
    "        q1 += 1\n",
    "    elif puntos[i][x] < 0 and puntos[i][y] < 0:\n",
    "        q3 += 1\n",
    "    elif puntos[i][x] > 0 and puntos[i][y] < 0:\n",
    "        q4 += 1\n",
    "    else:\n",
    "        q2 += 1\n",
    "\n",
    "print(f\"I:{q1} II:{q2} III:{q3} IV:{q4}\")\n",
    "\n",
    "# 3. Halla el punto más cercano al centro. Calcula su distancia al centro\n",
    "# Definir una función que calcula la distancia al centro puede servir de ayuda. \n",
    "from math import sqrt\n",
    "def distancia_euclidiana(p1, p2):\n",
    "    x, y = 0, 1\n",
    "    return sqrt( (p2[x] - p1[x])**2 + (p2[y] - p1[y])**2 )\n",
    "\n",
    "centro = (0,0)\n",
    "distancias = []\n",
    "\n",
    "for n in puntos:\n",
    "    distancias.append(distancia_euclidiana(centro, n))\n",
    "\n",
    "min_distancia = min(distancias)\n",
    "for i in range(0, len(distancias)):\n",
    "    if min_distancia == distancias[i]:\n",
    "        print(f\"La flecha más cercana al centro fue {puntos[i]}\")\n",
    "    \n",
    "\n",
    "# 4. Si la diana tiene un radio de 9, calcula el número de flechas que hay que recoger al bosque. \n",
    "flechas_out = 0\n",
    "\n",
    "for n in puntos:\n",
    "    if distancia_euclidiana(centro, n) >= 9:\n",
    "        flechas_out += 1\n",
    "\n",
    "print(f\"Hay que recoger {flechas_out} flechas\") \n"
   ]
  }
 ],
 "metadata": {
  "kernelspec": {
   "display_name": "Python 3",
   "language": "python",
   "name": "python3"
  },
  "language_info": {
   "codemirror_mode": {
    "name": "ipython",
    "version": 3
   },
   "file_extension": ".py",
   "mimetype": "text/x-python",
   "name": "python",
   "nbconvert_exporter": "python",
   "pygments_lexer": "ipython3",
   "version": "3.9.5"
  }
 },
 "nbformat": 4,
 "nbformat_minor": 2
}
