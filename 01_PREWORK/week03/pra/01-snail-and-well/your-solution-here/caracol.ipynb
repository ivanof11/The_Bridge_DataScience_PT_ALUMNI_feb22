{
 "cells": [
  {
   "cell_type": "markdown",
   "metadata": {},
   "source": [
    "# 01 - Caracol y el pozo\n",
    "\n",
    "Un caracol cae en el fondo de un pozo de 125 cm. Cada día el caracol sube 30 cm. pero por la noche, mientras duerme, resbala 20 cm debido a que las paredes son húmedas. ¿Cuantos días tarda en escapar del pozo?\n",
    "\n",
    "TIP: https://www.vix.com/es/btg/curiosidades/59215/acertijos-matematicos-el-caracol-en-el-pozo-facil\n",
    "\n",
    "TIP: http://puzzles.nigelcoldwell.co.uk/sixtytwo.htm"
   ]
  },
  {
   "cell_type": "markdown",
   "metadata": {},
   "source": [
    "## Solución"
   ]
  },
  {
   "cell_type": "code",
   "execution_count": 1,
   "metadata": {},
   "outputs": [
    {
     "name": "stdout",
     "output_type": "stream",
     "text": [
      "Dias = 13\n"
     ]
    }
   ],
   "source": [
    "# Asigna los datos del problema a variables con nombres representativos\n",
    "# altura del pozo, avance diario, retroceso nocturno, distancia acumulada\n",
    "altura_pozo = 125\n",
    "avance_diario = 30\n",
    "retroceso_nocturno = 20\n",
    "distancia_acumulada = 0\n",
    "\n",
    "# Asigna 0 a la variable que representa la solución\n",
    "dias = 0\n",
    "\n",
    "# Escribe el código que soluciona el problema\n",
    "while(distancia_acumulada < altura_pozo):\n",
    "    distancia_acumulada += avance_diario - retroceso_nocturno\n",
    "    dias += 1\n",
    "\n",
    "# Imprime el resultado con print('Dias =', dias)\n",
    "print(f\"Dias = {dias}\")\n"
   ]
  },
  {
   "cell_type": "markdown",
   "metadata": {},
   "source": [
    "## Objetivos\n",
    "\n",
    "1. Tratamiento de variables\n",
    "2. Uso de bucle **while**\n",
    "3. Uso de condicionales **if-else**\n",
    "4. Imprimir por consola"
   ]
  },
  {
   "cell_type": "markdown",
   "metadata": {},
   "source": [
    "## Bonus\n",
    "La distancia recorrida por el caracol viene ahora definida por una lista. \n",
    "```\n",
    "avance_cm = [30, 21, 33, 77, 44, 45, 23, 45, 12, 34, 55]\n",
    "```\n",
    "¿Cuánto tarda en subir el pozo?\n",
    "¿Cuál es su máximo de desplazamiento en un día? ¿Y su mínimo?\n",
    "¿Cuál es su media de velocidad durante el día?\n",
    "¿Cuál es la desviación típica de su desplazamiento durante el día?"
   ]
  },
  {
   "cell_type": "code",
   "execution_count": 7,
   "metadata": {},
   "outputs": [
    {
     "name": "stdout",
     "output_type": "stream",
     "text": [
      "Dias = 11\n",
      "El máximo desplazamiento en un día fue 77 y su mínimo fue 12\n",
      "su media de avance fue 38.09090909090909\n",
      "la desviación tipica de su desplazamiento fue 2.780304532911054\n"
     ]
    }
   ],
   "source": [
    "# Asigna los datos del problema a variables con nombres representativos\n",
    "# altura del pozo, avance diario, retroceso nocturno, distancia acumulada\n",
    "altura_pozo = 125\n",
    "avance_diario = 30\n",
    "retroceso_nocturno = 20\n",
    "distancia_acumulada = 0\n",
    "avance_cm = [30, 21, 33, 77, 44, 45, 23, 45, 12, 34, 55]\n",
    "# Asigna 0 a la variable que representa la solución\n",
    "dias = 0\n",
    "\n",
    "# Escribe el código que soluciona el problema\n",
    "while(distancia_acumulada < altura_pozo):\n",
    "    for n in avance_cm:\n",
    "        distancia_acumulada += n - retroceso_nocturno\n",
    "        dias += 1\n",
    "\n",
    "# Imprime el resultado con print('Dias =', dias)\n",
    "print(f\"Dias = {dias}\")\n",
    "\n",
    "# ¿Cuál es su máximo de desplazamiento en un día? ¿Y su mínimo?\n",
    "d_max, d_min = max(avance_cm), min(avance_cm)\n",
    "print(f\"El máximo desplazamiento en un día fue {d_max} y su mínimo fue {d_min}\")\n",
    "\n",
    "# ¿Cuál es su media de avance?\n",
    "total = 0\n",
    "for n in avance_cm:\n",
    "    total += n\n",
    "\n",
    "media =  total / len(avance_cm)\n",
    "print(f\"su media de avance fue {media}\")\n",
    "# ¿Cuál es la desviación típica de su desplazamiento durante el día?\n",
    "sum_varianza = 0\n",
    "for n in avance_cm:\n",
    "    sum_varianza += (n - media)**2\n",
    "from math import sqrt\n",
    "sigma = sqrt(sum_varianza/total)\n",
    "print(f\"la desviación tipica de su desplazamiento fue {sigma}\")"
   ]
  },
  {
   "cell_type": "markdown",
   "metadata": {},
   "source": [
    "![i](https://economipedia.com/wp-content/uploads/Formula-Desviacion-Tipica.jpg)"
   ]
  }
 ],
 "metadata": {
  "kernelspec": {
   "display_name": "Python 3",
   "language": "python",
   "name": "python3"
  },
  "language_info": {
   "codemirror_mode": {
    "name": "ipython",
    "version": 3
   },
   "file_extension": ".py",
   "mimetype": "text/x-python",
   "name": "python",
   "nbconvert_exporter": "python",
   "pygments_lexer": "ipython3",
   "version": "3.9.5"
  }
 },
 "nbformat": 4,
 "nbformat_minor": 4
}
