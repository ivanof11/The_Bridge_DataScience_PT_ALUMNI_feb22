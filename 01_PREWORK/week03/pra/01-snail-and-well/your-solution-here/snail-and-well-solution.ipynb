{
 "cells": [
  {
   "cell_type": "markdown",
   "metadata": {},
   "source": [
    "# 01 - Caracol y el pozo\n",
    "\n",
    "Un caracol cae en el fondo de un pozo de 125 cm. Cada día el caracol sube 30 cm. pero por la noche, mientras duerme, resbala 20 cm debido a que las paredes son húmedas. ¿Cuantos días tarda en escapar del pozo?\n",
    "\n",
    "TIP: https://www.vix.com/es/btg/curiosidades/59215/acertijos-matematicos-el-caracol-en-el-pozo-facil\n",
    "\n",
    "TIP: http://puzzles.nigelcoldwell.co.uk/sixtytwo.htm"
   ]
  },
  {
   "cell_type": "markdown",
   "metadata": {},
   "source": [
    "## Solución"
   ]
  },
  {
   "cell_type": "code",
   "execution_count": 5,
   "metadata": {},
   "outputs": [
    {
     "name": "stdout",
     "output_type": "stream",
     "text": [
      "El caracol ha tardado en escapar del pozo 11 dias\n"
     ]
    }
   ],
   "source": [
    "# Asigna los datos del problema a variables con nombres representativos\n",
    "# altura del pozo, avance diario, retroceso nocturno, distancia acumulada\n",
    "altura_pozo = 125; avance_diario = 30; retroceso = 20; distancia_acumulada = 0; dia = 0\n",
    "ok = True\n",
    "\n",
    "while ok:\n",
    "    distancia_acumulada += avance_diario\n",
    "    dia += 1\n",
    "    if distancia_acumulada >= 125:\n",
    "        ok = False\n",
    "        print (f\"El caracol ha tardado en escapar del pozo {dia} dias\")\n",
    "    distancia_acumulada -= retroceso\n",
    "    \n",
    "\n",
    "\n",
    "# Asigna 0 a la variable que representa la solución\n",
    "\n",
    "\n",
    "# Escribe el código que soluciona el problema\n",
    "\n",
    "\n",
    "# Imprime el resultado con print('Dias =', dias)\n",
    "\n"
   ]
  },
  {
   "cell_type": "markdown",
   "metadata": {},
   "source": [
    "## Objetivos\n",
    "\n",
    "1. Tratamiento de variables\n",
    "2. Uso de bucle **while**\n",
    "3. Uso de condicionales **if-else**\n",
    "4. Imprimir por consola"
   ]
  }
 ],
 "metadata": {
  "interpreter": {
   "hash": "87dd7c8bfa414c2b7cb461fe244ad5a46bc6a938f79a6b46cbe8b797df3f0e67"
  },
  "kernelspec": {
   "display_name": "Python 3.9.5 ('the_bridge_22')",
   "language": "python",
   "name": "python3"
  },
  "language_info": {
   "codemirror_mode": {
    "name": "ipython",
    "version": 3
   },
   "file_extension": ".py",
   "mimetype": "text/x-python",
   "name": "python",
   "nbconvert_exporter": "python",
   "pygments_lexer": "ipython3",
   "version": "3.9.5"
  },
  "orig_nbformat": 4
 },
 "nbformat": 4,
 "nbformat_minor": 2
}
